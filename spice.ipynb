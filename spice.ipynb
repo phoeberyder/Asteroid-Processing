{
 "cells": [
  {
   "cell_type": "code",
   "execution_count": 1,
   "metadata": {},
   "outputs": [],
   "source": [
    "import planetmapper\n",
    "import spiceypy as spice\n",
    "import datetime as dt\n",
    "import scipy.constants as c\n",
    "import numpy as np"
   ]
  },
  {
   "cell_type": "code",
   "execution_count": 2,
   "metadata": {},
   "outputs": [],
   "source": [
    "planetmapper.base.prevent_kernel_loading()"
   ]
  },
  {
   "cell_type": "code",
   "execution_count": 7,
   "metadata": {},
   "outputs": [],
   "source": [
    "kernels_to_load = [ '/Users/user/Downloads/latest_leapseconds.tls.txt', '/Users/user/Downloads/earth_assoc_itrf93.tf.txt', '/Users/user/Downloads/earth_latest_high_prec.bpc', '/Users/user/Downloads/de442s.bsp', '/Users/user/Downloads/earthstns_itrf93_201023.bsp', '/Users/user/Downloads/3359024.bsp', '/Users/user/Downloads/pinpoint_lovell_3.bsp', '/Users/user/Downloads/pinpoint_goonhilly.bsp', '/Users/user/Downloads/54359258-2.bsp']"
   ]
  },
  {
   "cell_type": "code",
   "execution_count": 8,
   "metadata": {},
   "outputs": [],
   "source": [
    "for kernel in kernels_to_load:\n",
    "    spice.furnsh(kernel)"
   ]
  },
  {
   "cell_type": "code",
   "execution_count": 13,
   "metadata": {},
   "outputs": [],
   "source": [
    "time=dt.datetime.fromisoformat('2025-04-11T11:00:00')"
   ]
  },
  {
   "cell_type": "code",
   "execution_count": 15,
   "metadata": {},
   "outputs": [],
   "source": [
    "body = planetmapper.BasicBody('54359258',time, observer='399889',aberration_correction='NONE')"
   ]
  },
  {
   "cell_type": "code",
   "execution_count": 32,
   "metadata": {},
   "outputs": [],
   "source": [
    "date = []\n",
    "lt_corr = []\n",
    "time=dt.datetime.fromisoformat('2025-04-11T10:00:00')\n",
    "min = 0\n",
    "hour = 10\n",
    "for i in range(151):\n",
    "    body = planetmapper.BasicBody('54359258',time, observer='399889',aberration_correction='NONE')\n",
    "    nocorr = spice.spkezr('54359258', body.et, 'J2000', 'none', '399889')\n",
    "    lt = nocorr[1]\n",
    "    lt_corr.append(lt)\n",
    "    if min>59:\n",
    "        hour +=1\n",
    "        min=0\n",
    "    if min<10:\n",
    "        date_string = '2025-04-11T'+str(hour)+':0'+str(min)+':00'\n",
    "        print_date = '2025-04-11 '+str(hour)+':0'+str(min)+', '\n",
    "    else:\n",
    "        date_string = '2025-04-11T'+str(hour)+':'+str(min)+':00'\n",
    "        print_date = '2025-04-11 '+str(hour)+':'+str(min)+', '\n",
    "    min +=1\n",
    "    date.append(print_date)\n",
    "    time = dt.datetime.fromisoformat(date_string)"
   ]
  },
  {
   "cell_type": "code",
   "execution_count": 33,
   "metadata": {},
   "outputs": [],
   "source": [
    "comb = np.hstack((date, lt_corr))"
   ]
  },
  {
   "cell_type": "code",
   "execution_count": 34,
   "metadata": {},
   "outputs": [
    {
     "name": "stdout",
     "output_type": "stream",
     "text": [
      "Writing \"2025-04-11 10:00,  18.126403280518186\" to file\n",
      "Writing \"2025-04-11 10:01,  18.126403280518186\" to file\n",
      "Writing \"2025-04-11 10:02,  18.134849376361682\" to file\n",
      "Writing \"2025-04-11 10:03,  18.143320618610304\" to file\n",
      "Writing \"2025-04-11 10:04,  18.15181671303548\" to file\n",
      "Writing \"2025-04-11 10:05,  18.16033736518723\" to file\n",
      "Writing \"2025-04-11 10:06,  18.16888228040508\" to file\n",
      "Writing \"2025-04-11 10:07,  18.17745116382724\" to file\n",
      "Writing \"2025-04-11 10:08,  18.18604372040605\" to file\n",
      "Writing \"2025-04-11 10:09,  18.194659654916506\" to file\n",
      "Writing \"2025-04-11 10:10,  18.203298671967676\" to file\n",
      "Writing \"2025-04-11 10:11,  18.211960476014\" to file\n",
      "Writing \"2025-04-11 10:12,  18.22064477136669\" to file\n",
      "Writing \"2025-04-11 10:13,  18.229351262203558\" to file\n",
      "Writing \"2025-04-11 10:14,  18.238079652581604\" to file\n",
      "Writing \"2025-04-11 10:15,  18.246829646446315\" to file\n",
      "Writing \"2025-04-11 10:16,  18.255600947643007\" to file\n",
      "Writing \"2025-04-11 10:17,  18.264393259927797\" to file\n",
      "Writing \"2025-04-11 10:18,  18.273206286977896\" to file\n",
      "Writing \"2025-04-11 10:19,  18.28203973240235\" to file\n",
      "Writing \"2025-04-11 10:20,  18.29089329975221\" to file\n",
      "Writing \"2025-04-11 10:21,  18.29976669253152\" to file\n",
      "Writing \"2025-04-11 10:22,  18.308659614207453\" to file\n",
      "Writing \"2025-04-11 10:23,  18.3175717682202\" to file\n",
      "Writing \"2025-04-11 10:24,  18.32650285799392\" to file\n",
      "Writing \"2025-04-11 10:25,  18.33545258694672\" to file\n",
      "Writing \"2025-04-11 10:26,  18.344420658500272\" to file\n",
      "Writing \"2025-04-11 10:27,  18.353406776090676\" to file\n",
      "Writing \"2025-04-11 10:28,  18.362410643177782\" to file\n",
      "Writing \"2025-04-11 10:29,  18.371431963255272\" to file\n",
      "Writing \"2025-04-11 10:30,  18.38047043986081\" to file\n",
      "Writing \"2025-04-11 10:31,  18.389525776585504\" to file\n",
      "Writing \"2025-04-11 10:32,  18.39859767708374\" to file\n",
      "Writing \"2025-04-11 10:33,  18.4076858450829\" to file\n",
      "Writing \"2025-04-11 10:34,  18.41678998439281\" to file\n",
      "Writing \"2025-04-11 10:35,  18.425909798915292\" to file\n",
      "Writing \"2025-04-11 10:36,  18.435044992653683\" to file\n",
      "Writing \"2025-04-11 10:37,  18.444195269722233\" to file\n",
      "Writing \"2025-04-11 10:38,  18.45336033435539\" to file\n",
      "Writing \"2025-04-11 10:39,  18.462539890917007\" to file\n",
      "Writing \"2025-04-11 10:40,  18.471733643909573\" to file\n",
      "Writing \"2025-04-11 10:41,  18.480941297983286\" to file\n",
      "Writing \"2025-04-11 10:42,  18.490162557926695\" to file\n",
      "Writing \"2025-04-11 10:43,  18.4993971287523\" to file\n",
      "Writing \"2025-04-11 10:44,  18.508644715583532\" to file\n",
      "Writing \"2025-04-11 10:45,  18.5179050237541\" to file\n",
      "Writing \"2025-04-11 10:46,  18.527177758787673\" to file\n",
      "Writing \"2025-04-11 10:47,  18.536462626408287\" to file\n",
      "Writing \"2025-04-11 10:48,  18.545759332550293\" to file\n",
      "Writing \"2025-04-11 10:49,  18.555067583365894\" to file\n",
      "Writing \"2025-04-11 10:50,  18.5643870852344\" to file\n",
      "Writing \"2025-04-11 10:51,  18.573717544769977\" to file\n",
      "Writing \"2025-04-11 10:52,  18.5830586688307\" to file\n",
      "Writing \"2025-04-11 10:53,  18.59241016452652\" to file\n",
      "Writing \"2025-04-11 10:54,  18.60177173922739\" to file\n",
      "Writing \"2025-04-11 10:55,  18.611143100571905\" to file\n",
      "Writing \"2025-04-11 10:56,  18.620523956474884\" to file\n",
      "Writing \"2025-04-11 10:57,  18.629914015135657\" to file\n",
      "Writing \"2025-04-11 10:58,  18.639312985046327\" to file\n",
      "Writing \"2025-04-11 10:59,  18.648720574999267\" to file\n",
      "Writing \"2025-04-11 11:00,  18.658136494094883\" to file\n",
      "Writing \"2025-04-11 11:01,  18.66756045175005\" to file\n",
      "Writing \"2025-04-11 11:02,  18.676992157705087\" to file\n",
      "Writing \"2025-04-11 11:03,  18.686431322031954\" to file\n",
      "Writing \"2025-04-11 11:04,  18.695877655141498\" to file\n",
      "Writing \"2025-04-11 11:05,  18.705330867791048\" to file\n",
      "Writing \"2025-04-11 11:06,  18.714790671092395\" to file\n",
      "Writing \"2025-04-11 11:07,  18.72425677651803\" to file\n",
      "Writing \"2025-04-11 11:08,  18.73372889590964\" to file\n",
      "Writing \"2025-04-11 11:09,  18.74320674148479\" to file\n",
      "Writing \"2025-04-11 11:10,  18.752690025844263\" to file\n",
      "Writing \"2025-04-11 11:11,  18.762178461979143\" to file\n",
      "Writing \"2025-04-11 11:12,  18.771671763277897\" to file\n",
      "Writing \"2025-04-11 11:13,  18.781169643533314\" to file\n",
      "Writing \"2025-04-11 11:14,  18.790671816949924\" to file\n",
      "Writing \"2025-04-11 11:15,  18.800177998150037\" to file\n",
      "Writing \"2025-04-11 11:16,  18.809687902181437\" to file\n",
      "Writing \"2025-04-11 11:17,  18.81920124452349\" to file\n",
      "Writing \"2025-04-11 11:18,  18.828717741094145\" to file\n",
      "Writing \"2025-04-11 11:19,  18.838237108256486\" to file\n",
      "Writing \"2025-04-11 11:20,  18.847759062825517\" to file\n",
      "Writing \"2025-04-11 11:21,  18.85728332207435\" to file\n",
      "Writing \"2025-04-11 11:22,  18.86680960374084\" to file\n",
      "Writing \"2025-04-11 11:23,  18.876337626033624\" to file\n",
      "Writing \"2025-04-11 11:24,  18.8858671076395\" to file\n",
      "Writing \"2025-04-11 11:25,  18.89539776772796\" to file\n",
      "Writing \"2025-04-11 11:26,  18.90492932595948\" to file\n",
      "Writing \"2025-04-11 11:27,  18.91446150248979\" to file\n",
      "Writing \"2025-04-11 11:28,  18.92399401795811\" to file\n",
      "Writing \"2025-04-11 11:29,  18.933526593568455\" to file\n",
      "Writing \"2025-04-11 11:30,  18.94305895098249\" to file\n",
      "Writing \"2025-04-11 11:31,  18.95259081240066\" to file\n",
      "Writing \"2025-04-11 11:32,  18.962121900549295\" to file\n",
      "Writing \"2025-04-11 11:33,  18.971651938686506\" to file\n",
      "Writing \"2025-04-11 11:34,  18.98118065060772\" to file\n",
      "Writing \"2025-04-11 11:35,  18.990707760651677\" to file\n",
      "Writing \"2025-04-11 11:36,  19.000232993705595\" to file\n",
      "Writing \"2025-04-11 11:37,  19.00975607521133\" to file\n",
      "Writing \"2025-04-11 11:38,  19.019276731170322\" to file\n",
      "Writing \"2025-04-11 11:39,  19.028794688149194\" to file\n",
      "Writing \"2025-04-11 11:40,  19.038309673285468\" to file\n",
      "Writing \"2025-04-11 11:41,  19.047821414292684\" to file\n",
      "Writing \"2025-04-11 11:42,  19.057329639465344\" to file\n",
      "Writing \"2025-04-11 11:43,  19.06683407768482\" to file\n",
      "Writing \"2025-04-11 11:44,  19.07633445842425\" to file\n",
      "Writing \"2025-04-11 11:45,  19.08583051175318\" to file\n",
      "Writing \"2025-04-11 11:46,  19.09532196834327\" to file\n",
      "Writing \"2025-04-11 11:47,  19.104808559473234\" to file\n",
      "Writing \"2025-04-11 11:48,  19.114290017033515\" to file\n",
      "Writing \"2025-04-11 11:49,  19.12376607353144\" to file\n",
      "Writing \"2025-04-11 11:50,  19.133236462095667\" to file\n",
      "Writing \"2025-04-11 11:51,  19.14270091648181\" to file\n",
      "Writing \"2025-04-11 11:52,  19.152159171076143\" to file\n",
      "Writing \"2025-04-11 11:53,  19.161610960901207\" to file\n",
      "Writing \"2025-04-11 11:54,  19.17105602162004\" to file\n",
      "Writing \"2025-04-11 11:55,  19.180494089540513\" to file\n",
      "Writing \"2025-04-11 11:56,  19.189924901620717\" to file\n",
      "Writing \"2025-04-11 11:57,  19.19934819547243\" to file\n",
      "Writing \"2025-04-11 11:58,  19.20876370936635\" to file\n",
      "Writing \"2025-04-11 11:59,  19.218171182236084\" to file\n",
      "Writing \"2025-04-11 12:00,  19.227570353682797\" to file\n",
      "Writing \"2025-04-11 12:01,  19.236960963978994\" to file\n",
      "Writing \"2025-04-11 12:02,  19.24634275407354\" to file\n",
      "Writing \"2025-04-11 12:03,  19.25571546559523\" to file\n",
      "Writing \"2025-04-11 12:04,  19.265078840857\" to file\n",
      "Writing \"2025-04-11 12:05,  19.274432622860605\" to file\n",
      "Writing \"2025-04-11 12:06,  19.283776555299806\" to file\n",
      "Writing \"2025-04-11 12:07,  19.293110382565096\" to file\n",
      "Writing \"2025-04-11 12:08,  19.302433849747565\" to file\n",
      "Writing \"2025-04-11 12:09,  19.31174670264244\" to file\n",
      "Writing \"2025-04-11 12:10,  19.321048687753155\" to file\n",
      "Writing \"2025-04-11 12:11,  19.330339552295392\" to file\n",
      "Writing \"2025-04-11 12:12,  19.339619044200635\" to file\n",
      "Writing \"2025-04-11 12:13,  19.348886912120125\" to file\n",
      "Writing \"2025-04-11 12:14,  19.35814290540991\" to file\n",
      "Writing \"2025-04-11 12:15,  19.367386774207954\" to file\n",
      "Writing \"2025-04-11 12:16,  19.376618269328002\" to file\n",
      "Writing \"2025-04-11 12:17,  19.38583714233622\" to file\n",
      "Writing \"2025-04-11 12:18,  19.395043145536405\" to file\n",
      "Writing \"2025-04-11 12:19,  19.404236031973408\" to file\n",
      "Writing \"2025-04-11 12:20,  19.413415555436924\" to file\n",
      "Writing \"2025-04-11 12:21,  19.422581470464422\" to file\n",
      "Writing \"2025-04-11 12:22,  19.43173353234497\" to file\n",
      "Writing \"2025-04-11 12:23,  19.440871497121993\" to file\n",
      "Writing \"2025-04-11 12:24,  19.449995121597066\" to file\n",
      "Writing \"2025-04-11 12:25,  19.459104163333027\" to file\n",
      "Writing \"2025-04-11 12:26,  19.468198380656744\" to file\n",
      "Writing \"2025-04-11 12:27,  19.477277532663102\" to file\n",
      "Writing \"2025-04-11 12:28,  19.486341379217333\" to file\n",
      "Writing \"2025-04-11 12:29,  19.49538968095842\" to file\n",
      "Writing \"2025-04-11 12:30,  19.504422199302233\" to file\n"
     ]
    }
   ],
   "source": [
    "f = open('goonhilly-2023ku_ltcorr.txt', 'w')\n",
    "for adjective, fruit in zip(date, lt_corr):\n",
    "    print(f'Writing \"{adjective} {fruit}\" to file')\n",
    "    f.write(f'{adjective} {fruit}\\n')\n",
    "f.close()"
   ]
  },
  {
   "cell_type": "code",
   "execution_count": 20,
   "metadata": {},
   "outputs": [],
   "source": [
    "epoch_time = dt.datetime(2000, 1, 1, 0)\n",
    "delta = (time - epoch_time)\n",
    "delta = delta.total_seconds()"
   ]
  },
  {
   "cell_type": "code",
   "execution_count": 21,
   "metadata": {},
   "outputs": [
    {
     "data": {
      "text/plain": [
       "785894400.0"
      ]
     },
     "execution_count": 21,
     "metadata": {},
     "output_type": "execute_result"
    }
   ],
   "source": [
    "delta"
   ]
  },
  {
   "cell_type": "code",
   "execution_count": 50,
   "metadata": {},
   "outputs": [
    {
     "data": {
      "text/plain": [
       "0.0026785714285714286"
      ]
     },
     "execution_count": 50,
     "metadata": {},
     "output_type": "execute_result"
    }
   ],
   "source": [
    "(0.0625 / 7e9)*3e8"
   ]
  },
  {
   "cell_type": "code",
   "execution_count": 19,
   "metadata": {},
   "outputs": [
    {
     "data": {
      "text/plain": [
       "11.980782508982552"
      ]
     },
     "execution_count": 19,
     "metadata": {},
     "output_type": "execute_result"
    }
   ],
   "source": [
    "(delta - body.et)/3600"
   ]
  },
  {
   "cell_type": "code",
   "execution_count": 46,
   "metadata": {},
   "outputs": [],
   "source": [
    "nocorr = spice.spkezr('3359024', body.et, 'J2000', 'none', '399888')"
   ]
  },
  {
   "cell_type": "code",
   "execution_count": 47,
   "metadata": {},
   "outputs": [
    {
     "data": {
      "text/plain": [
       "(array([-3.05628129e+06,  1.00111572e+06, -4.95667626e+06, -3.63208312e+01,\n",
       "        -2.79771756e+02,  1.19898085e+00]),\n",
       " 19.709017121371378)"
      ]
     },
     "execution_count": 47,
     "metadata": {},
     "output_type": "execute_result"
    }
   ],
   "source": [
    "nocorr"
   ]
  },
  {
   "cell_type": "code",
   "execution_count": 61,
   "metadata": {},
   "outputs": [],
   "source": [
    "oneway = nocorr[1]\n",
    "twoway = oneway*2 "
   ]
  },
  {
   "cell_type": "code",
   "execution_count": 62,
   "metadata": {},
   "outputs": [
    {
     "data": {
      "text/plain": [
       "926104195.5080659"
      ]
     },
     "execution_count": 62,
     "metadata": {},
     "output_type": "execute_result"
    }
   ],
   "source": [
    "distance = oneway*c.speed_of_light\n",
    "distance"
   ]
  },
  {
   "cell_type": "markdown",
   "metadata": {},
   "source": [
    "distance of 2006WB at closest appraoch is 0.0059 au -> approx 882627437 km"
   ]
  },
  {
   "cell_type": "code",
   "execution_count": 64,
   "metadata": {},
   "outputs": [
    {
     "name": "stdout",
     "output_type": "stream",
     "text": [
      "SPKEZR:                  0.006190624179171996\n"
     ]
    }
   ],
   "source": [
    "print(\"SPKEZR:                 \", distance/c.au)"
   ]
  },
  {
   "cell_type": "code",
   "execution_count": 1,
   "metadata": {},
   "outputs": [],
   "source": [
    "import pandas as pd"
   ]
  },
  {
   "cell_type": "code",
   "execution_count": 2,
   "metadata": {},
   "outputs": [],
   "source": [
    "\n",
    "df=pd.read_csv('/share/nas2/pryder/2006WB/jodrell-2006wb.txt',header=None, delimiter=',') # read in the file to a dataframe df\n",
    "\n",
    "df['datetime']=pd.to_datetime(df[0])  #convert the first col to a proper datetime in a new column\n",
    "df=df.set_index('datetime')  # make this the index\n",
    "series=df[2]\n",
    "deldot=series.resample(\"1s\").interpolate('linear')  #re-sample to 1 sec intervals\n"
   ]
  },
  {
   "cell_type": "code",
   "execution_count": 5,
   "metadata": {},
   "outputs": [
    {
     "data": {
      "text/html": [
       "<div>\n",
       "<style scoped>\n",
       "    .dataframe tbody tr th:only-of-type {\n",
       "        vertical-align: middle;\n",
       "    }\n",
       "\n",
       "    .dataframe tbody tr th {\n",
       "        vertical-align: top;\n",
       "    }\n",
       "\n",
       "    .dataframe thead th {\n",
       "        text-align: right;\n",
       "    }\n",
       "</style>\n",
       "<table border=\"1\" class=\"dataframe\">\n",
       "  <thead>\n",
       "    <tr style=\"text-align: right;\">\n",
       "      <th></th>\n",
       "      <th>0</th>\n",
       "      <th>1</th>\n",
       "      <th>2</th>\n",
       "    </tr>\n",
       "    <tr>\n",
       "      <th>datetime</th>\n",
       "      <th></th>\n",
       "      <th></th>\n",
       "      <th></th>\n",
       "    </tr>\n",
       "  </thead>\n",
       "  <tbody>\n",
       "    <tr>\n",
       "      <th>2024-11-26 16:43:00</th>\n",
       "      <td>2024-11-26 16:43</td>\n",
       "      <td>890254.01883</td>\n",
       "      <td>-0.385969</td>\n",
       "    </tr>\n",
       "    <tr>\n",
       "      <th>2024-11-26 16:44:00</th>\n",
       "      <td>2024-11-26 16:44</td>\n",
       "      <td>890230.90115</td>\n",
       "      <td>-0.384580</td>\n",
       "    </tr>\n",
       "    <tr>\n",
       "      <th>2024-11-26 16:45:00</th>\n",
       "      <td>2024-11-26 16:45</td>\n",
       "      <td>890207.86701</td>\n",
       "      <td>-0.383185</td>\n",
       "    </tr>\n",
       "    <tr>\n",
       "      <th>2024-11-26 16:46:00</th>\n",
       "      <td>2024-11-26 16:46</td>\n",
       "      <td>890184.91679</td>\n",
       "      <td>-0.381783</td>\n",
       "    </tr>\n",
       "    <tr>\n",
       "      <th>2024-11-26 16:47:00</th>\n",
       "      <td>2024-11-26 16:47</td>\n",
       "      <td>890162.05087</td>\n",
       "      <td>-0.380375</td>\n",
       "    </tr>\n",
       "    <tr>\n",
       "      <th>...</th>\n",
       "      <td>...</td>\n",
       "      <td>...</td>\n",
       "      <td>...</td>\n",
       "    </tr>\n",
       "    <tr>\n",
       "      <th>2024-11-26 19:11:00</th>\n",
       "      <td>2024-11-26 19:11</td>\n",
       "      <td>887931.56028</td>\n",
       "      <td>-0.116902</td>\n",
       "    </tr>\n",
       "    <tr>\n",
       "      <th>2024-11-26 19:12:00</th>\n",
       "      <td>2024-11-26 19:12</td>\n",
       "      <td>887924.61177</td>\n",
       "      <td>-0.114702</td>\n",
       "    </tr>\n",
       "    <tr>\n",
       "      <th>2024-11-26 19:13:00</th>\n",
       "      <td>2024-11-26 19:13</td>\n",
       "      <td>887917.79537</td>\n",
       "      <td>-0.112499</td>\n",
       "    </tr>\n",
       "    <tr>\n",
       "      <th>2024-11-26 19:14:00</th>\n",
       "      <td>2024-11-26 19:14</td>\n",
       "      <td>887911.11131</td>\n",
       "      <td>-0.110291</td>\n",
       "    </tr>\n",
       "    <tr>\n",
       "      <th>2024-11-26 19:15:00</th>\n",
       "      <td>2024-11-26 19:15</td>\n",
       "      <td>887904.55984</td>\n",
       "      <td>-0.108079</td>\n",
       "    </tr>\n",
       "  </tbody>\n",
       "</table>\n",
       "<p>153 rows × 3 columns</p>\n",
       "</div>"
      ],
      "text/plain": [
       "                                     0             1         2\n",
       "datetime                                                      \n",
       "2024-11-26 16:43:00   2024-11-26 16:43  890254.01883 -0.385969\n",
       "2024-11-26 16:44:00   2024-11-26 16:44  890230.90115 -0.384580\n",
       "2024-11-26 16:45:00   2024-11-26 16:45  890207.86701 -0.383185\n",
       "2024-11-26 16:46:00   2024-11-26 16:46  890184.91679 -0.381783\n",
       "2024-11-26 16:47:00   2024-11-26 16:47  890162.05087 -0.380375\n",
       "...                                ...           ...       ...\n",
       "2024-11-26 19:11:00   2024-11-26 19:11  887931.56028 -0.116902\n",
       "2024-11-26 19:12:00   2024-11-26 19:12  887924.61177 -0.114702\n",
       "2024-11-26 19:13:00   2024-11-26 19:13  887917.79537 -0.112499\n",
       "2024-11-26 19:14:00   2024-11-26 19:14  887911.11131 -0.110291\n",
       "2024-11-26 19:15:00   2024-11-26 19:15  887904.55984 -0.108079\n",
       "\n",
       "[153 rows x 3 columns]"
      ]
     },
     "execution_count": 5,
     "metadata": {},
     "output_type": "execute_result"
    }
   ],
   "source": [
    "df"
   ]
  },
  {
   "cell_type": "code",
   "execution_count": null,
   "metadata": {},
   "outputs": [],
   "source": [
    "for "
   ]
  }
 ],
 "metadata": {
  "kernelspec": {
   "display_name": "base",
   "language": "python",
   "name": "python3"
  },
  "language_info": {
   "codemirror_mode": {
    "name": "ipython",
    "version": 3
   },
   "file_extension": ".py",
   "mimetype": "text/x-python",
   "name": "python",
   "nbconvert_exporter": "python",
   "pygments_lexer": "ipython3",
   "version": "3.11.5"
  }
 },
 "nbformat": 4,
 "nbformat_minor": 2
}
