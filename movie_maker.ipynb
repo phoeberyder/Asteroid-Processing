{
 "cells": [
  {
   "cell_type": "code",
   "execution_count": 3,
   "metadata": {},
   "outputs": [],
   "source": [
    "from PIL import Image\n",
    "import time\n",
    "import glob"
   ]
  },
  {
   "cell_type": "code",
   "execution_count": 15,
   "metadata": {},
   "outputs": [
    {
     "name": "stdout",
     "output_type": "stream",
     "text": [
      "/Users/user/Documents/VS Code/Radar/Asteroid-Processing/images_for_gif/take 2/output01.png\n",
      "/Users/user/Documents/VS Code/Radar/Asteroid-Processing/images_for_gif/take 2/output02.png\n",
      "/Users/user/Documents/VS Code/Radar/Asteroid-Processing/images_for_gif/take 2/output03.png\n",
      "/Users/user/Documents/VS Code/Radar/Asteroid-Processing/images_for_gif/take 2/output04.png\n",
      "/Users/user/Documents/VS Code/Radar/Asteroid-Processing/images_for_gif/take 2/output05.png\n",
      "/Users/user/Documents/VS Code/Radar/Asteroid-Processing/images_for_gif/take 2/output06.png\n",
      "/Users/user/Documents/VS Code/Radar/Asteroid-Processing/images_for_gif/take 2/output07.png\n",
      "/Users/user/Documents/VS Code/Radar/Asteroid-Processing/images_for_gif/take 2/output08.png\n",
      "/Users/user/Documents/VS Code/Radar/Asteroid-Processing/images_for_gif/take 2/output09.png\n",
      "/Users/user/Documents/VS Code/Radar/Asteroid-Processing/images_for_gif/take 2/output10.png\n",
      "/Users/user/Documents/VS Code/Radar/Asteroid-Processing/images_for_gif/take 2/output11.png\n",
      "/Users/user/Documents/VS Code/Radar/Asteroid-Processing/images_for_gif/take 2/output12.png\n",
      "/Users/user/Documents/VS Code/Radar/Asteroid-Processing/images_for_gif/take 2/output13.png\n",
      "/Users/user/Documents/VS Code/Radar/Asteroid-Processing/images_for_gif/take 2/output14.png\n"
     ]
    }
   ],
   "source": [
    "images = []\n",
    "timestr = time.strftime(\"%Y%m%d-%H%M%S\")\n",
    "\n",
    "for filename in sorted(glob.glob('/Users/user/Documents/VS Code/Radar/Asteroid-Processing/images_for_gif/take 2/*.png')): # loop through all png files in the folder\n",
    "    im = Image.open(filename)\n",
    "    print(filename)\n",
    "    images.append(im) # add the image to the list"
   ]
  },
  {
   "cell_type": "code",
   "execution_count": 16,
   "metadata": {},
   "outputs": [],
   "source": [
    "# calculate the frame number of the last frame (ie the number of images)\n",
    "last_frame = (len(images)) \n",
    "\n",
    "# save as a gif   \n",
    "images[0].save('/Users/user/Documents/VS Code/Radar/Asteroid-Processing/images_for_gif/take 2/each_5_mins' + '.gif',\n",
    "               save_all=True, append_images=images[1:], optimize=False, duration=500, loop=0)"
   ]
  }
 ],
 "metadata": {
  "kernelspec": {
   "display_name": "base",
   "language": "python",
   "name": "python3"
  },
  "language_info": {
   "codemirror_mode": {
    "name": "ipython",
    "version": 3
   },
   "file_extension": ".py",
   "mimetype": "text/x-python",
   "name": "python",
   "nbconvert_exporter": "python",
   "pygments_lexer": "ipython3",
   "version": "3.11.5"
  }
 },
 "nbformat": 4,
 "nbformat_minor": 2
}
